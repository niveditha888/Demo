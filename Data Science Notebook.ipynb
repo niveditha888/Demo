{
    "cells": [
        {
            "cell_type": "markdown",
            "metadata": {},
            "source": ""
        },
        {
            "cell_type": "code",
            "execution_count": 1,
            "metadata": {
                "scrolled": false
            },
            "outputs": [
                {
                    "data": {
                        "text/html": "<div>\n<style scoped>\n    .dataframe tbody tr th:only-of-type {\n        vertical-align: middle;\n    }\n\n    .dataframe tbody tr th {\n        vertical-align: top;\n    }\n\n    .dataframe thead th {\n        text-align: right;\n    }\n</style>\n<table border=\"1\" class=\"dataframe\">\n  <thead>\n    <tr style=\"text-align: right;\">\n      <th></th>\n      <th>Loyalty#</th>\n      <th>First Name</th>\n      <th>Last Name</th>\n      <th>Customer Name</th>\n      <th>Country</th>\n      <th>Province or State</th>\n      <th>City</th>\n      <th>Latitude</th>\n      <th>Longitude</th>\n      <th>Postal code</th>\n      <th>...</th>\n      <th>LoyaltyStatus</th>\n      <th>Product Line</th>\n      <th>Coupon Response</th>\n      <th>Count</th>\n      <th>Quantity Sold</th>\n      <th>Unit Sale Price</th>\n      <th>Unit Cost</th>\n      <th>Revenue</th>\n      <th>Customer Lifetime Value</th>\n      <th>Loyalty Count</th>\n    </tr>\n  </thead>\n  <tbody>\n    <tr>\n      <th>0</th>\n      <td>837810.0</td>\n      <td>Abigail</td>\n      <td>Goris</td>\n      <td>Abigail Goris</td>\n      <td>Canada</td>\n      <td>British Columbia</td>\n      <td>Dawson Creek</td>\n      <td>55.759627</td>\n      <td>-120.237662</td>\n      <td>U5I 4F1</td>\n      <td>...</td>\n      <td>Bronze</td>\n      <td>Computers and Home Office</td>\n      <td>Coupon 6</td>\n      <td>1.0</td>\n      <td>3.0</td>\n      <td>$1,182.00</td>\n      <td>$1,004.70</td>\n      <td>$3,546.00</td>\n      <td>8842.65</td>\n      <td>1.0</td>\n    </tr>\n    <tr>\n      <th>1</th>\n      <td>707928.0</td>\n      <td>Ada</td>\n      <td>Glaude</td>\n      <td>Ada Glaude</td>\n      <td>Germany</td>\n      <td>Bremen</td>\n      <td>Bremen</td>\n      <td>53.079296</td>\n      <td>8.801694</td>\n      <td>28759</td>\n      <td>...</td>\n      <td>Bronze</td>\n      <td>Computers and Home Office</td>\n      <td>Coupon 1</td>\n      <td>1.0</td>\n      <td>1.0</td>\n      <td>$434.00</td>\n      <td>$368.90</td>\n      <td>$434.00</td>\n      <td>3508.57</td>\n      <td>1.0</td>\n    </tr>\n    <tr>\n      <th>2</th>\n      <td>901442.0</td>\n      <td>Ada</td>\n      <td>Staback</td>\n      <td>Ada Staback</td>\n      <td>Canada</td>\n      <td>Manitoba</td>\n      <td>Winnipeg</td>\n      <td>49.895136</td>\n      <td>-97.138374</td>\n      <td>R2C 0M5</td>\n      <td>...</td>\n      <td>Bronze</td>\n      <td>Computers and Home Office</td>\n      <td>Coupon 1</td>\n      <td>1.0</td>\n      <td>2.0</td>\n      <td>$201.00</td>\n      <td>$170.85</td>\n      <td>$402.00</td>\n      <td>8044.87</td>\n      <td>1.0</td>\n    </tr>\n    <tr>\n      <th>3</th>\n      <td>237303.0</td>\n      <td>Adam</td>\n      <td>Boner</td>\n      <td>Adam Boner</td>\n      <td>Canada</td>\n      <td>Ontario</td>\n      <td>Sudbury</td>\n      <td>46.522099</td>\n      <td>-80.953035</td>\n      <td>M5V 1G5</td>\n      <td>...</td>\n      <td>Bronze</td>\n      <td>Computers and Home Office</td>\n      <td>Coupon 4</td>\n      <td>1.0</td>\n      <td>3.0</td>\n      <td>$757.00</td>\n      <td>$643.45</td>\n      <td>$2,271.00</td>\n      <td>8660.84</td>\n      <td>1.0</td>\n    </tr>\n    <tr>\n      <th>4</th>\n      <td>348835.0</td>\n      <td>Adam</td>\n      <td>Dunnegan</td>\n      <td>Adam Dunnegan</td>\n      <td>Canada</td>\n      <td>Manitoba</td>\n      <td>Winnipeg</td>\n      <td>49.895136</td>\n      <td>-97.138374</td>\n      <td>R2C 0M5</td>\n      <td>...</td>\n      <td>Bronze</td>\n      <td>Computers and Home Office</td>\n      <td>Coupon 1</td>\n      <td>1.0</td>\n      <td>2.0</td>\n      <td>$161.00</td>\n      <td>$136.85</td>\n      <td>$322.00</td>\n      <td>25464.82</td>\n      <td>1.0</td>\n    </tr>\n  </tbody>\n</table>\n<p>5 rows \u00d7 28 columns</p>\n</div>",
                        "text/plain": "   Loyalty# First Name Last Name  Customer Name  Country Province or State  \\\n0  837810.0    Abigail     Goris  Abigail Goris   Canada  British Columbia   \n1  707928.0        Ada    Glaude     Ada Glaude  Germany            Bremen   \n2  901442.0        Ada   Staback    Ada Staback   Canada          Manitoba   \n3  237303.0       Adam     Boner     Adam Boner   Canada           Ontario   \n4  348835.0       Adam  Dunnegan  Adam Dunnegan   Canada          Manitoba   \n\n           City   Latitude   Longitude Postal code  ... LoyaltyStatus  \\\n0  Dawson Creek  55.759627 -120.237662     U5I 4F1  ...        Bronze   \n1        Bremen  53.079296    8.801694       28759  ...        Bronze   \n2      Winnipeg  49.895136  -97.138374     R2C 0M5  ...        Bronze   \n3       Sudbury  46.522099  -80.953035     M5V 1G5  ...        Bronze   \n4      Winnipeg  49.895136  -97.138374     R2C 0M5  ...        Bronze   \n\n                Product Line Coupon Response  Count Quantity Sold  \\\n0  Computers and Home Office        Coupon 6    1.0           3.0   \n1  Computers and Home Office        Coupon 1    1.0           1.0   \n2  Computers and Home Office        Coupon 1    1.0           2.0   \n3  Computers and Home Office        Coupon 4    1.0           3.0   \n4  Computers and Home Office        Coupon 1    1.0           2.0   \n\n   Unit Sale Price   Unit Cost     Revenue Customer Lifetime Value  \\\n0       $1,182.00   $1,004.70   $3,546.00                  8842.65   \n1         $434.00     $368.90     $434.00                  3508.57   \n2         $201.00     $170.85     $402.00                  8044.87   \n3         $757.00     $643.45   $2,271.00                  8660.84   \n4         $161.00     $136.85     $322.00                 25464.82   \n\n  Loyalty Count  \n0           1.0  \n1           1.0  \n2           1.0  \n3           1.0  \n4           1.0  \n\n[5 rows x 28 columns]"
                    },
                    "execution_count": 1,
                    "metadata": {},
                    "output_type": "execute_result"
                }
            ],
            "source": "# The code was removed by Watson Studio for sharing."
        },
        {
            "cell_type": "code",
            "execution_count": null,
            "metadata": {},
            "outputs": [],
            "source": ""
        }
    ],
    "metadata": {
        "kernelspec": {
            "display_name": "Python 3.9",
            "language": "python",
            "name": "python3"
        },
        "language_info": {
            "codemirror_mode": {
                "name": "ipython",
                "version": 3
            },
            "file_extension": ".py",
            "mimetype": "text/x-python",
            "name": "python",
            "nbconvert_exporter": "python",
            "pygments_lexer": "ipython3",
            "version": "3.9.12"
        }
    },
    "nbformat": 4,
    "nbformat_minor": 1
}